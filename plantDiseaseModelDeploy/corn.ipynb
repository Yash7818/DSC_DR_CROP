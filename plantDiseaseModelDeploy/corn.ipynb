{
  "nbformat": 4,
  "nbformat_minor": 0,
  "metadata": {
    "colab": {
      "name": "corn.ipynb",
      "provenance": [],
      "collapsed_sections": []
    },
    "kernelspec": {
      "name": "python3",
      "display_name": "Python 3"
    },
    "accelerator": "GPU"
  },
  "cells": [
    {
      "cell_type": "code",
      "metadata": {
        "colab": {
          "resources": {
            "http://localhost:8080/nbextensions/google.colab/files.js": {
              "data": "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",
              "ok": true,
              "headers": [
                [
                  "content-type",
                  "application/javascript"
                ]
              ],
              "status": 200,
              "status_text": ""
            }
          },
          "base_uri": "https://localhost:8080/",
          "height": 73
        },
        "id": "U-c3UDDoFPx2",
        "outputId": "95abda4b-aa76-4997-cdc2-8db24880a192"
      },
      "source": [
        "from google.colab import files\r\n",
        "files.upload()"
      ],
      "execution_count": null,
      "outputs": [
        {
          "output_type": "display_data",
          "data": {
            "text/html": [
              "\n",
              "     <input type=\"file\" id=\"files-d749ba5b-bdd2-4adb-a5ec-7bc10927b736\" name=\"files[]\" multiple disabled\n",
              "        style=\"border:none\" />\n",
              "     <output id=\"result-d749ba5b-bdd2-4adb-a5ec-7bc10927b736\">\n",
              "      Upload widget is only available when the cell has been executed in the\n",
              "      current browser session. Please rerun this cell to enable.\n",
              "      </output>\n",
              "      <script src=\"/nbextensions/google.colab/files.js\"></script> "
            ],
            "text/plain": [
              "<IPython.core.display.HTML object>"
            ]
          },
          "metadata": {
            "tags": []
          }
        },
        {
          "output_type": "stream",
          "text": [
            "Saving kaggle.json to kaggle.json\n"
          ],
          "name": "stdout"
        },
        {
          "output_type": "execute_result",
          "data": {
            "text/plain": [
              "{'kaggle.json': b'{\"username\":\"theksg9\",\"key\":\"5783530dd4c30706555b3c3f51310057\"}'}"
            ]
          },
          "metadata": {
            "tags": []
          },
          "execution_count": 1
        }
      ]
    },
    {
      "cell_type": "code",
      "metadata": {
        "colab": {
          "base_uri": "https://localhost:8080/"
        },
        "id": "Jt3GypZEFS1U",
        "outputId": "ba3d3883-3ffc-4429-c5d8-ed2d70681ed3"
      },
      "source": [
        "!mkdir -p ~/.kaggle\r\n",
        "!cp kaggle.json ~/.kaggle/\r\n",
        "\r\n",
        "!chmod 600 ~/.kaggle/kaggle.json\r\n",
        "\r\n",
        "!kaggle datasets download -d vipoooool/new-plant-diseases-dataset"
      ],
      "execution_count": null,
      "outputs": [
        {
          "output_type": "stream",
          "text": [
            "Downloading new-plant-diseases-dataset.zip to /content\n",
            "100% 2.69G/2.70G [00:45<00:00, 63.9MB/s]\n",
            "100% 2.70G/2.70G [00:45<00:00, 63.7MB/s]\n"
          ],
          "name": "stdout"
        }
      ]
    },
    {
      "cell_type": "code",
      "metadata": {
        "id": "__r30a_kFfKg"
      },
      "source": [
        "from zipfile import ZipFile\r\n",
        "file_name=\"/content/new-plant-diseases-dataset.zip\"\r\n",
        "\r\n",
        "with ZipFile(file_name,'r') as zip:\r\n",
        "  zip.extractall()"
      ],
      "execution_count": null,
      "outputs": []
    },
    {
      "cell_type": "code",
      "metadata": {
        "id": "cHlY0adcFya9"
      },
      "source": [
        "!mkdir dataset/maize dataset/maize/train dataset/maize/test"
      ],
      "execution_count": null,
      "outputs": []
    },
    {
      "cell_type": "code",
      "metadata": {
        "id": "BZsEVTB8GCky"
      },
      "source": [
        "!mv /content/dataset/dataset/valid/Corn* /content/dataset/maize/test\r\n",
        "!mv /content/dataset/dataset/train/Corn* /content/dataset/maize/train"
      ],
      "execution_count": null,
      "outputs": []
    },
    {
      "cell_type": "code",
      "metadata": {
        "colab": {
          "base_uri": "https://localhost:8080/"
        },
        "id": "J0lE_8D4GZiR",
        "outputId": "2990d076-a7e3-4489-a8fc-ecf84f8f2f3c"
      },
      "source": [
        "from keras.preprocessing.image import ImageDataGenerator\r\n",
        "train_datagen = ImageDataGenerator(\r\n",
        "        rescale = 1./255,\r\n",
        "\t      rotation_range=90,\r\n",
        "        width_shift_range=0.2,\r\n",
        "        height_shift_range=0.2,\r\n",
        "        shear_range=0.2,\r\n",
        "        brightness_range=[0.7,1.3],\r\n",
        "        horizontal_flip=True,\r\n",
        "        vertical_flip=True,\r\n",
        "        fill_mode='nearest'\r\n",
        "        )\r\n",
        "\r\n",
        "train_set=train_datagen.flow_from_directory(\r\n",
        "    '/content/dataset/maize/train',\r\n",
        "    target_size=(64,64),\r\n",
        "    batch_size=64,\r\n",
        "    class_mode='categorical'\r\n",
        ")\r\n",
        "\r\n",
        "test_datagen=ImageDataGenerator(rescale=1./255)\r\n",
        "\r\n",
        "test_set=test_datagen.flow_from_directory(\r\n",
        "    '/content/dataset/maize/test',\r\n",
        "    batch_size=16,\r\n",
        "    target_size=(64,64),\r\n",
        "    class_mode='categorical'\r\n",
        ")"
      ],
      "execution_count": null,
      "outputs": [
        {
          "output_type": "stream",
          "text": [
            "Found 7316 images belonging to 4 classes.\n",
            "Found 1829 images belonging to 4 classes.\n"
          ],
          "name": "stdout"
        }
      ]
    },
    {
      "cell_type": "code",
      "metadata": {
        "id": "cESG4uAwGmw9"
      },
      "source": [
        "from keras.models import Sequential\r\n",
        "from keras.layers import Convolution2D\r\n",
        "from keras.layers import MaxPooling2D\r\n",
        "from keras.layers import Flatten\r\n",
        "from keras.layers import Dense\r\n",
        "from keras.layers import Dropout\r\n",
        "classifier=Sequential()\r\n",
        "classifier.add(Convolution2D(16,(3,3),activation='relu',input_shape=(64,64,3)))\r\n",
        "classifier.add(MaxPooling2D())\r\n",
        "classifier.add(Convolution2D(32,(3,3),activation='relu'))\r\n",
        "classifier.add(MaxPooling2D())\r\n",
        "classifier.add(Flatten())\r\n",
        "classifier.add(Dense(256,activation='relu'))\r\n",
        "classifier.add(Dense(4,activation='softmax'))"
      ],
      "execution_count": null,
      "outputs": []
    },
    {
      "cell_type": "code",
      "metadata": {
        "id": "sGVXXICJGvFs"
      },
      "source": [
        "classifier.compile(optimizer='adam',loss='categorical_crossentropy',metrics=['accuracy'])"
      ],
      "execution_count": null,
      "outputs": []
    },
    {
      "cell_type": "code",
      "metadata": {
        "colab": {
          "base_uri": "https://localhost:8080/"
        },
        "id": "r_pIjmTMGyJl",
        "outputId": "9d793cb2-77a3-4747-acce-aa49258bf055"
      },
      "source": [
        "classifications=classifier.fit_generator(\r\n",
        "    train_set,\r\n",
        "    steps_per_epoch=7316/64,\r\n",
        "    epochs=15,\r\n",
        "    validation_data=test_set,\r\n",
        "    validation_steps=1829/16,\r\n",
        "    \r\n",
        "    verbose=2\r\n",
        ")"
      ],
      "execution_count": null,
      "outputs": [
        {
          "output_type": "stream",
          "text": [
            "/usr/local/lib/python3.7/dist-packages/tensorflow/python/keras/engine/training.py:1844: UserWarning: `Model.fit_generator` is deprecated and will be removed in a future version. Please use `Model.fit`, which supports generators.\n",
            "  warnings.warn('`Model.fit_generator` is deprecated and '\n"
          ],
          "name": "stderr"
        },
        {
          "output_type": "stream",
          "text": [
            "Epoch 1/15\n",
            "114/114 - 22s - loss: 0.8352 - accuracy: 0.6372 - val_loss: 0.4988 - val_accuracy: 0.8043\n",
            "Epoch 2/15\n",
            "114/114 - 19s - loss: 0.4595 - accuracy: 0.8088 - val_loss: 0.7447 - val_accuracy: 0.7053\n",
            "Epoch 3/15\n",
            "114/114 - 19s - loss: 0.3720 - accuracy: 0.8461 - val_loss: 0.7227 - val_accuracy: 0.7080\n",
            "Epoch 4/15\n",
            "114/114 - 18s - loss: 0.3424 - accuracy: 0.8636 - val_loss: 0.6771 - val_accuracy: 0.7239\n",
            "Epoch 5/15\n",
            "114/114 - 19s - loss: 0.3039 - accuracy: 0.8778 - val_loss: 0.4252 - val_accuracy: 0.8130\n",
            "Epoch 6/15\n",
            "114/114 - 18s - loss: 0.3029 - accuracy: 0.8771 - val_loss: 0.4331 - val_accuracy: 0.8141\n",
            "Epoch 7/15\n",
            "114/114 - 18s - loss: 0.2664 - accuracy: 0.8963 - val_loss: 0.4003 - val_accuracy: 0.8338\n",
            "Epoch 8/15\n",
            "114/114 - 19s - loss: 0.2616 - accuracy: 0.8986 - val_loss: 0.6613 - val_accuracy: 0.7387\n",
            "Epoch 9/15\n",
            "114/114 - 18s - loss: 0.2649 - accuracy: 0.8960 - val_loss: 0.3944 - val_accuracy: 0.8420\n",
            "Epoch 10/15\n",
            "114/114 - 18s - loss: 0.2405 - accuracy: 0.9038 - val_loss: 0.2794 - val_accuracy: 0.8923\n",
            "Epoch 11/15\n",
            "114/114 - 18s - loss: 0.2358 - accuracy: 0.9090 - val_loss: 0.5337 - val_accuracy: 0.7928\n",
            "Epoch 12/15\n",
            "114/114 - 18s - loss: 0.2251 - accuracy: 0.9112 - val_loss: 0.2965 - val_accuracy: 0.8808\n",
            "Epoch 13/15\n",
            "114/114 - 18s - loss: 0.2137 - accuracy: 0.9180 - val_loss: 0.3154 - val_accuracy: 0.8666\n",
            "Epoch 14/15\n",
            "114/114 - 18s - loss: 0.2200 - accuracy: 0.9132 - val_loss: 0.3011 - val_accuracy: 0.8781\n",
            "Epoch 15/15\n",
            "114/114 - 18s - loss: 0.2191 - accuracy: 0.9163 - val_loss: 0.3197 - val_accuracy: 0.8693\n"
          ],
          "name": "stdout"
        }
      ]
    },
    {
      "cell_type": "code",
      "metadata": {
        "colab": {
          "base_uri": "https://localhost:8080/"
        },
        "id": "-U0doMcBG6ny",
        "outputId": "31eab718-7915-4b5f-eeff-54db9f8dc1bc"
      },
      "source": [
        "import numpy as np\r\n",
        "\r\n",
        "from google.colab import files\r\n",
        "from keras.preprocessing import image\r\n",
        "\r\n",
        "#uploaded=files.upload()\r\n",
        "\r\n",
        "\r\n",
        " \r\n",
        "# predicting images\r\n",
        "#path='/content/' + fn\r\n",
        "img=image.load_img('/content/nb2.gif', target_size=(64,64))\r\n",
        "\r\n",
        "x=image.img_to_array(img)\r\n",
        "x=np.expand_dims(x, axis=0)\r\n",
        "images = np.vstack([x])\r\n",
        "images=images/255.0\r\n",
        "classes = classifier.predict(images, batch_size=10)\r\n",
        "\r\n",
        "print(classes[0])\r\n",
        "print(classes)\r\n",
        "ar=np.array(classes[0]).tolist()\r\n",
        "max_value = max(ar)\r\n",
        "max_index = ar.index(max_value)\r\n",
        "\r\n",
        "if max_index==0 :\r\n",
        "  print(\"Gray Leaf Spot\")\r\n",
        "elif max_index==1:\r\n",
        "  print(\"Common Rust\")\r\n",
        "elif max_index==2:\r\n",
        "  print(\"Northern Leaf Blight\")\r\n",
        "else:\r\n",
        "  print(\"Healthy\")\r\n",
        "  \r\n",
        "  # classes = model.predict(images, batch_size=10)\r\n",
        "  \r\n",
        "  # print(classes[0])\r\n",
        "  # print(classes)\r\n",
        "  # ar=np.array(classes[0]).tolist()\r\n",
        "  # max_value = max(ar)\r\n",
        "  # max_index = ar.index(max_value)\r\n",
        "  \r\n",
        "  # if max_index==0 :\r\n",
        "  #   print(\"Gray Leaf Spot\")\r\n",
        "  # elif max_index==1:\r\n",
        "  #   print(\"Common Rust\")\r\n",
        "  # elif max_index==2:\r\n",
        "  #   print(\"Northern Leaf Blight\")\r\n",
        "  # else:\r\n",
        "  #   print(\"Healthy\")"
      ],
      "execution_count": null,
      "outputs": [
        {
          "output_type": "stream",
          "text": [
            "[9.9963617e-01 9.0608808e-08 3.6366837e-04 2.9983181e-15]\n",
            "[[9.9963617e-01 9.0608808e-08 3.6366837e-04 2.9983181e-15]]\n",
            "Gray Leaf Spot\n"
          ],
          "name": "stdout"
        }
      ]
    },
    {
      "cell_type": "code",
      "metadata": {
        "id": "6PS_jLWKQKFx"
      },
      "source": [
        "classifier.save('/content/drive/MyDrive/models/maizeNew.h5')"
      ],
      "execution_count": null,
      "outputs": []
    },
    {
      "cell_type": "code",
      "metadata": {
        "id": "TpI4qH9qb4gs"
      },
      "source": [
        "# Improting Image class from PIL module \r\n",
        "from PIL import Image \r\n",
        "import matplotlib.pyplot as plt\r\n",
        "  \r\n",
        "# Opens a image in RGB mode \r\n",
        "im = Image.open(r\"/content/dataset/maize/test/Corn_(maize)___Common_rust_/RS_Rust 1574.JPG\") \r\n",
        "  \r\n",
        "# Size of the image in pixels (size of orginal image) \r\n",
        "# (This is not mandatory) \r\n",
        "width, height = im.size \r\n",
        "  \r\n",
        "# Setting the points for cropped image \r\n",
        "left = width/4\r\n",
        "top = height / 4\r\n",
        "right = 3*width/4\r\n",
        "bottom = 3 * height / 4\r\n",
        "  \r\n",
        "# Cropped image of above dimension \r\n",
        "# (It will not change orginal image) \r\n",
        "im1 = im.crop((left, top, right, bottom)) \r\n",
        "  \r\n",
        "# Shows the image in image viewer \r\n",
        "\r\n",
        "plt.show(im1)"
      ],
      "execution_count": null,
      "outputs": []
    },
    {
      "cell_type": "code",
      "metadata": {
        "id": "AXTlrROePU79"
      },
      "source": [
        "import glob\r\n",
        "files=glob.glob(\"/content/dataset/maize/train/Corn_(maize)___Common_rust_/*.*\")\r\n"
      ],
      "execution_count": null,
      "outputs": []
    },
    {
      "cell_type": "code",
      "metadata": {
        "colab": {
          "base_uri": "https://localhost:8080/"
        },
        "id": "zWPqvVc3i8Pr",
        "outputId": "9accba4c-120e-4725-e61f-46276a33d715"
      },
      "source": [
        "len(files)"
      ],
      "execution_count": null,
      "outputs": [
        {
          "output_type": "execute_result",
          "data": {
            "text/plain": [
              "1907"
            ]
          },
          "metadata": {
            "tags": []
          },
          "execution_count": 24
        }
      ]
    },
    {
      "cell_type": "code",
      "metadata": {
        "id": "Wh8W_bS_Upuw"
      },
      "source": [
        "from PIL import Image\r\n",
        "c=0\r\n",
        "import os\r\n",
        "path=\"/content/dataset/maize/train/Corn_(maize)___Common_rust_/\"\r\n",
        "for f in files:\r\n",
        "  im = Image.open(f)\r\n",
        "  width, height = im.size\r\n",
        "  left = width/5\r\n",
        "  top = height/5\r\n",
        "  right = 4*width/5\r\n",
        "  bottom =  4*height/5\r\n",
        "  im1 = im.crop((left, top, right, bottom))\r\n",
        "  im1.save(path+str(c)+\".jpg\")\r\n",
        "  c=c+1\r\n",
        "  os.remove(f)\r\n",
        "\r\n"
      ],
      "execution_count": null,
      "outputs": []
    },
    {
      "cell_type": "code",
      "metadata": {
        "id": "ZizSnPljlabv"
      },
      "source": [
        ""
      ],
      "execution_count": null,
      "outputs": []
    }
  ]
}